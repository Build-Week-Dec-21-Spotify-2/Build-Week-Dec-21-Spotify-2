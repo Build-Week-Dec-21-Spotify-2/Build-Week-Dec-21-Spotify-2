{
 "cells": [
  {
   "cell_type": "code",
   "execution_count": 53,
   "metadata": {},
   "outputs": [],
   "source": [
    "from app import get_similar_songs, lazy_track_search, get_feature_vector\n",
    "import matplotlib.pyplot as plt\n",
    "from matplotlib.figure import Figure\n",
    "import seaborn as sns\n",
    "import pandas as pd\n",
    "import numpy as np\n",
    "import pickle"
   ]
  },
  {
   "cell_type": "code",
   "execution_count": 5,
   "metadata": {},
   "outputs": [],
   "source": [
    "searched_song = 'humble'"
   ]
  },
  {
   "cell_type": "code",
   "execution_count": 7,
   "metadata": {},
   "outputs": [
    {
     "name": "stdout",
     "output_type": "stream",
     "text": [
      "7KXjTSCq5nL1LoYtL7XAwS\n"
     ]
    }
   ],
   "source": [
    "user_track_id = lazy_track_search(searched_song)\n",
    "print(user_track_id)"
   ]
  },
  {
   "cell_type": "code",
   "execution_count": 9,
   "metadata": {},
   "outputs": [],
   "source": [
    "filename = \"models/app_data/Spotify_model_new\"\n",
    "knn_model = pickle.load(open(filename, 'rb'))"
   ]
  },
  {
   "cell_type": "code",
   "execution_count": 10,
   "metadata": {},
   "outputs": [
    {
     "name": "stdout",
     "output_type": "stream",
     "text": [
      "[(1, 'Chupable by El Alfa'), (2, 'Pandora by DJ Matt D'), (3, 'Fashion Killer by Ayra Starr'), (4, 'Como Lo Hice Yo by Matisse'), (5, 'Settle Me Down by Josh Abbott Band')]\n"
     ]
    }
   ],
   "source": [
    "recommendations = get_similar_songs(knn_model, user_track_id)\n",
    "print(recommendations)"
   ]
  },
  {
   "cell_type": "code",
   "execution_count": 11,
   "metadata": {},
   "outputs": [
    {
     "name": "stdout",
     "output_type": "stream",
     "text": [
      "['danceability', 'energy', 'key', 'loudness', 'mode', 'speechiness', 'acousticness', 'instrumentalness', 'liveness', 'valence', 'tempo', 'duration_ms', 'time_signature']\n",
      "[0.908, 0.621, 1, -6.638, 0, 0.102, 0.000282, 5.39e-05, 0.0958, 0.421, 150.011, 177000, 4]\n"
     ]
    }
   ],
   "source": [
    "features_names, user_track_features = get_feature_vector(user_track_id)\n",
    "print(features_names)\n",
    "print(user_track_features)"
   ]
  },
  {
   "cell_type": "code",
   "execution_count": 35,
   "metadata": {},
   "outputs": [
    {
     "name": "stdout",
     "output_type": "stream",
     "text": [
      "['danceability', 'energy', 'key', 'relative loudness', 'mode', 'speechiness', 'acousticness', 'instrumentalness', 'liveness', 'valence']\n",
      "[0.908, 0.621, 1, 1.892810713297783, 0, 0.102, 0.000282, 5.39e-05, 0.0958, 0.421]\n"
     ]
    }
   ],
   "source": [
    "ten_features_names = features_names[:-3]\n",
    "ten_user_track_features = user_track_features[:-3]\n",
    "ten_features_names[3] = 'relative loudness'\n",
    "ten_user_track_features[3] = np.log(-ten_user_track_features[3])\n",
    "print(ten_features_names)\n",
    "print(ten_user_track_features)"
   ]
  },
  {
   "cell_type": "code",
   "execution_count": 54,
   "metadata": {},
   "outputs": [
    {
     "data": {
      "image/png": "[encoded data removed]",
      "text/plain": [
       "<Figure size 432x288 with 1 Axes>"
      ]
     },
     "metadata": {},
     "output_type": "display_data"
    }
   ],
   "source": [
    "custom_style = {'axes.labelcolor': 'white',\n",
    "                'xtick.color': 'white',\n",
    "                'ytick.color': 'white',\n",
    "                'figure.facecolor':'black'}\n",
    "sns.set_style(\"whitegrid\", rc=custom_style)\n",
    "# fig = plt.figure(figsize=(6,6))\n",
    "fig = Figure()\n",
    "ax = sns.barplot(x=ten_user_track_features, y=ten_features_names, \n",
    "                #  palette=\"Greens\",\n",
    "                color='green',\n",
    "                 orient=\"h\")\n",
    "plt.show()"
   ]
  },
  {
   "cell_type": "code",
   "execution_count": 56,
   "metadata": {},
   "outputs": [
    {
     "data": {
      "image/png": "[encoded data removed]",
      "text/plain": [
       "<Figure size 432x432 with 1 Axes>"
      ]
     },
     "metadata": {},
     "output_type": "display_data"
    }
   ],
   "source": [
    "# Full script\n",
    "\n",
    "# Get first 10 features (the final 3 skew the graph dimensions)\n",
    "ten_features_names = features_names[:-3]\n",
    "ten_user_track_features = user_track_features[:-3]\n",
    "\n",
    "# Take the log of loudness to help with scale\n",
    "ten_features_names[3] = 'relative loudness'\n",
    "ten_user_track_features[3] = np.log(-ten_user_track_features[3])\n",
    "\n",
    "# Plot the figure\n",
    "custom_style = {'axes.labelcolor': 'white',\n",
    "                'xtick.color': 'white',\n",
    "                'ytick.color': 'white',\n",
    "                'figure.facecolor':'black'}\n",
    "sns.set_style(\"darkgrid\", rc=custom_style)\n",
    "fig = plt.figure(figsize=(6,6))\n",
    "ax = sns.barplot(x=ten_user_track_features, y=ten_features_names, \n",
    "                #  palette=\"Greens\",\n",
    "                color='green',\n",
    "                 orient=\"h\")\n",
    "plt.show()"
   ]
  },
  {
   "cell_type": "code",
   "execution_count": null,
   "metadata": {},
   "outputs": [],
   "source": []
  }
 ],
 "metadata": {
  "interpreter": {
   "hash": "76d185ea827fe865fd43cc35ac89cea4f155f82dddff9814839c97d7d15c74bd"
  },
  "kernelspec": {
   "display_name": "Python 3.9.8 64-bit ('Build-Week-Dec-21-Spotify-2-jFjOC7rk': pipenv)",
   "language": "python",
   "name": "python3"
  },
  "language_info": {
   "codemirror_mode": {
    "name": "ipython",
    "version": 3
   },
   "file_extension": ".py",
   "mimetype": "text/x-python",
   "name": "python",
   "nbconvert_exporter": "python",
   "pygments_lexer": "ipython3",
   "version": "3.9.8"
  },
  "orig_nbformat": 4
 },
 "nbformat": 4,
 "nbformat_minor": 2
}
